{
 "cells": [
  {
   "cell_type": "code",
   "execution_count": 1,
   "metadata": {},
   "outputs": [],
   "source": [
    "from rrc_simulation.gym_wrapper.envs import cube_env, control_env\n",
    "from rrc_simulation.gym_wrapper.envs.control_env import ResidualPolicyWrapper\n",
    "from rrc_simulation.tasks import move_cube\n",
    "from rrc_simulation.control import control_policy\n",
    "\n",
    "import gym\n",
    "import numpy as np"
   ]
  },
  {
   "cell_type": "code",
   "execution_count": 2,
   "metadata": {},
   "outputs": [
    {
     "name": "stdout",
     "output_type": "stream",
     "text": [
      "init position: [0.02176933 0.11905757 0.0325    ], goal position: [0.     0.     0.0825], dist: 0.13095269643254315\n",
      "init orientation: [0.         0.         0.47478757 0.88010043], goal orientation: [0 0 0 1]\n",
      "\n",
      "\n",
      "Loading from ./scripts/push_reorient/push_reorient_s0/pyt_save/model99.pt.\n",
      "\n",
      "\n",
      "loaded policy from ./scripts/push_reorient/push_reorient_s0\n"
     ]
    }
   ],
   "source": [
    "# initial_pose = move_cube.Pose(position=np.array([0,0,0.0325]), orientation=np.array([0,0,0,1]))\n",
    "initial_pose = move_cube.Pose(np.array([0.02176933,0.11905757,0.0325]),\n",
    "                              np.array([0,0,0.47478757,0.88010043]))\n",
    "goal_pose =  move_cube.Pose(position=np.array([0,0,0.0825]), orientation=np.array([0,0,0,1]))\n",
    "\n",
    "difficulty = 2\n",
    "initializer = cube_env.FixedInitializer(\n",
    "    difficulty, initial_pose, goal_pose\n",
    ")\n",
    "action_type = cube_env.ActionType.TORQUE_AND_POSITION\n",
    "\n",
    "env = gym.make(\n",
    "    \"rrc_simulation.gym_wrapper:real_robot_challenge_phase_1-v1\",\n",
    "    initializer=initializer,\n",
    "    action_type=action_type,\n",
    "    visualization=False,\n",
    ")\n",
    "\n",
    "policy = control_policy.HierarchicalControllerPolicy(action_space=env.action_space,\n",
    "            initial_pose=initial_pose, goal_pose=goal_pose,\n",
    "            load_dir='./scripts/push_reorient/push_reorient_s0')\n",
    "env = ResidualPolicyWrapper(env, policy)"
   ]
  },
  {
   "cell_type": "code",
   "execution_count": 3,
   "metadata": {},
   "outputs": [],
   "source": [
    "is_done = False\n",
    "observation = env.reset()\n",
    "accumulated_reward = 0\n",
    "\n",
    "if isinstance(policy, (control_policy.HierarchicalControllerPolicy, \n",
    "                       control_policy.ImpedanceControllerPolicy)):\n",
    "    policy.set_waypoints(env.platform, observation)\n",
    "\n",
    "while not is_done:\n",
    "    action = policy.predict(observation)\n",
    "    observation, reward, is_done, info = env.step(action)\n",
    "    accumulated_reward += reward\n"
   ]
  },
  {
   "cell_type": "code",
   "execution_count": 4,
   "metadata": {},
   "outputs": [
    {
     "data": {
      "text/plain": [
       "-0.25868281864735637"
      ]
     },
     "execution_count": 4,
     "metadata": {},
     "output_type": "execute_result"
    }
   ],
   "source": [
    "reward"
   ]
  }
 ],
 "metadata": {
  "kernelspec": {
   "display_name": "Python 3",
   "language": "python",
   "name": "python3"
  },
  "language_info": {
   "codemirror_mode": {
    "name": "ipython",
    "version": 3
   },
   "file_extension": ".py",
   "mimetype": "text/x-python",
   "name": "python",
   "nbconvert_exporter": "python",
   "pygments_lexer": "ipython3",
   "version": "3.6.9"
  }
 },
 "nbformat": 4,
 "nbformat_minor": 4
}
